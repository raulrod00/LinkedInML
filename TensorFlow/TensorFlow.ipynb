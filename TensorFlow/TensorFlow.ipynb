{
 "cells": [
  {
   "cell_type": "markdown",
   "id": "d7fcc080-05ba-4deb-928b-0ef3c9855ae1",
   "metadata": {},
   "source": [
    "# TensorFlow"
   ]
  },
  {
   "cell_type": "markdown",
   "id": "9151d626-a9a5-4abb-be60-0186e3bb7060",
   "metadata": {},
   "source": [
    "## Creating a Model"
   ]
  },
  {
   "cell_type": "markdown",
   "id": "d50fba15-7826-4c29-9d11-41c69fb46d1a",
   "metadata": {},
   "source": [
    "### Load"
   ]
  },
  {
   "cell_type": "code",
   "execution_count": 1,
   "id": "3967cd15-294f-4500-bc19-b6b5a8e78215",
   "metadata": {},
   "outputs": [],
   "source": [
    "import tensorflow as tf\n",
    "import pandas as pd\n",
    "from sklearn.preprocessing import MinMaxScaler\n",
    "tf.compat.v1.disable_eager_execution()"
   ]
  },
  {
   "cell_type": "code",
   "execution_count": 2,
   "id": "0c519341-4e0b-4e9b-9f3d-db2e185e72dd",
   "metadata": {},
   "outputs": [],
   "source": [
    "# Load training data set from CSV file\n",
    "training_data_df = pd.read_csv(\"./03/sales_data_training.csv\", dtype=float)"
   ]
  },
  {
   "cell_type": "code",
   "execution_count": 3,
   "id": "35dea933-b11e-45cd-8426-a6971f37bb70",
   "metadata": {},
   "outputs": [],
   "source": [
    "# Pull out columns for X (data to train with) and Y (value to predict)\n",
    "X_training = training_data_df.drop('total_earnings', axis=1).values\n",
    "Y_training = training_data_df[['total_earnings']].values"
   ]
  },
  {
   "cell_type": "code",
   "execution_count": 4,
   "id": "d49bbd16-9b0e-4301-8dd2-245ef90a8543",
   "metadata": {},
   "outputs": [],
   "source": [
    "# Load testing data set from CSV file\n",
    "test_data_df = pd.read_csv('./03/sales_data_test.csv', dtype=float)"
   ]
  },
  {
   "cell_type": "code",
   "execution_count": 5,
   "id": "941843f6-7134-4d22-b7da-3a12be72044a",
   "metadata": {},
   "outputs": [],
   "source": [
    "# Pull out columns for X (data to train with) and Y (value to predict)\n",
    "X_testing = test_data_df.drop('total_earnings', axis=1).values\n",
    "Y_testing = test_data_df[['total_earnings']].values"
   ]
  },
  {
   "cell_type": "code",
   "execution_count": 6,
   "id": "032cf4c8-3bf9-4f7c-865b-71d2531c04c2",
   "metadata": {},
   "outputs": [],
   "source": [
    "# All data needs to be scaled to a small range like 0 to 1 for the neural\n",
    "# network to work well. Create scalers for the inputs and outputs.\n",
    "X_scaler = MinMaxScaler(feature_range=(0,1))\n",
    "Y_scaler = MinMaxScaler(feature_range=(0,1))"
   ]
  },
  {
   "cell_type": "code",
   "execution_count": 7,
   "id": "089d186e-98ee-43f4-9067-9371c320e92d",
   "metadata": {},
   "outputs": [],
   "source": [
    "# Scale both the training inputs and outputs\n",
    "X_scaled_training = X_scaler.fit_transform(X_training)\n",
    "Y_scaled_training = Y_scaler.fit_transform(Y_training)"
   ]
  },
  {
   "cell_type": "code",
   "execution_count": 8,
   "id": "6ce57377-8acd-4a76-aa05-3020dd1bafe1",
   "metadata": {},
   "outputs": [],
   "source": [
    "# It's very important that the training and test data are scaled with the same scaler.\n",
    "X_scaled_testing = X_scaler.transform(X_testing)\n",
    "Y_scaled_testing = Y_scaler.transform(Y_testing)"
   ]
  },
  {
   "cell_type": "code",
   "execution_count": 9,
   "id": "52a9ac48-6505-4a50-9024-271241ac5524",
   "metadata": {},
   "outputs": [
    {
     "name": "stdout",
     "output_type": "stream",
     "text": [
      "(400, 9)\n",
      "(400, 1)\n",
      "Note: Y values were scaled by multiplying by 0.0000036968 and adding -0.1159\n"
     ]
    }
   ],
   "source": [
    "print(X_scaled_testing.shape)\n",
    "print(Y_scaled_testing.shape)\n",
    "\n",
    "print(\"Note: Y values were scaled by multiplying by {:.10f} and adding {:.4f}\".format(Y_scaler.scale_[0], Y_scaler.min_[0]))\n"
   ]
  },
  {
   "cell_type": "markdown",
   "id": "f7efa8b5-8afb-4950-aacf-3d5af5ecb6bb",
   "metadata": {},
   "source": [
    "### Model"
   ]
  },
  {
   "cell_type": "code",
   "execution_count": 10,
   "id": "be7ba383-2ef2-4244-b8bb-a2a993bf99d9",
   "metadata": {},
   "outputs": [],
   "source": [
    "# Define model parameters\n",
    "learning_rate = 0.001\n",
    "training_epochs = 100\n",
    "display_step = 5"
   ]
  },
  {
   "cell_type": "code",
   "execution_count": 11,
   "id": "940938c1-9a2f-417d-98db-3704a4ff17ed",
   "metadata": {},
   "outputs": [],
   "source": [
    "# Define how many inputs and outputs are in our neural network\n",
    "number_of_inputs = 9\n",
    "number_of_outputs = 1"
   ]
  },
  {
   "cell_type": "code",
   "execution_count": 12,
   "id": "3a798e2b-5ecb-438b-9a71-703619be492c",
   "metadata": {},
   "outputs": [],
   "source": [
    "# Define how many neurons we want in each layer of our neural network\n",
    "layer_1_nodes = 50\n",
    "layer_2_nodes = 100\n",
    "layer_3_nodes = 50"
   ]
  },
  {
   "cell_type": "code",
   "execution_count": 13,
   "id": "5b815438-4507-4b85-8b59-40bfd60d4a95",
   "metadata": {},
   "outputs": [],
   "source": [
    "# Section One: Define the layers of the neural network itself\n",
    "\n",
    "# Input Layer\n",
    "with tf.compat.v1.variable_scope('input'):\n",
    "    X = tf.compat.v1.placeholder(tf.float32, shape=(None, number_of_inputs))\n",
    "\n",
    "# Layer 1\n",
    "with tf.compat.v1.variable_scope('layer_1'):\n",
    "    weights = tf.compat.v1.get_variable(name=\"weights1\", shape=[number_of_inputs, layer_1_nodes], initializer=tf.initializers.GlorotUniform())\n",
    "    biases = tf.compat.v1.get_variable(name=\"biases1\", shape=[layer_1_nodes], initializer=tf.zeros_initializer())\n",
    "    layer_1_output = tf.nn.relu(tf.matmul(X, weights) + biases)\n"
   ]
  },
  {
   "cell_type": "code",
   "execution_count": 14,
   "id": "186e54bd-9e0a-4afe-89d6-ddf7ea5fc781",
   "metadata": {},
   "outputs": [],
   "source": [
    "# Layer 2\n",
    "with tf.compat.v1.variable_scope('layer_2'):\n",
    "    weights = tf.compat.v1.get_variable(name=\"weights2\", shape=[layer_1_nodes, layer_2_nodes], initializer=tf.initializers.GlorotUniform())\n",
    "    biases = tf.compat.v1.get_variable(name=\"biases2\", shape=[layer_2_nodes], initializer=tf.zeros_initializer())\n",
    "    layer_2_output = tf.nn.relu(tf.matmul(layer_1_output, weights) + biases)\n",
    "\n",
    "# Layer 3\n",
    "with tf.compat.v1.variable_scope('layer_3'):\n",
    "    weights = tf.compat.v1.get_variable(name=\"weights3\", shape=[layer_2_nodes, layer_3_nodes], initializer=tf.initializers.GlorotUniform())\n",
    "    biases = tf.compat.v1.get_variable(name=\"biases3\", shape=[layer_3_nodes], initializer=tf.zeros_initializer())\n",
    "    layer_3_output = tf.nn.relu(tf.matmul(layer_2_output, weights) + biases)\n",
    "\n",
    "\n",
    "# Output Layer\n",
    "with tf.compat.v1.variable_scope('output'):\n",
    "    weights = tf.compat.v1.get_variable(name=\"weights4\", shape=[layer_3_nodes, number_of_outputs], initializer=tf.initializers.GlorotUniform())\n",
    "    biases = tf.compat.v1.get_variable(name=\"biases4\", shape=[number_of_outputs], initializer=tf.zeros_initializer())\n",
    "    prediction = tf.nn.relu(tf.matmul(layer_3_output, weights) + biases)"
   ]
  },
  {
   "cell_type": "code",
   "execution_count": 15,
   "id": "2dcd7200-b897-41b8-bd0e-be7e8aa3d211",
   "metadata": {},
   "outputs": [],
   "source": [
    "# Section Two: Define the cost function of the neural network that will measure prediction accuracy during training\n",
    "with tf.compat.v1.variable_scope('cost'):\n",
    "    Y = tf.compat.v1.placeholder(tf.float32, shape=(None, 1))\n",
    "    cost = tf.reduce_mean(tf.compat.v1.squared_difference(prediction, Y))"
   ]
  },
  {
   "cell_type": "code",
   "execution_count": 16,
   "id": "10f25f78-cf2f-4e76-8775-ada93251488c",
   "metadata": {},
   "outputs": [],
   "source": [
    "# Section Three: Define the optimizer function that will be run to optimize the neural network\n",
    "with tf.compat.v1.variable_scope('train'):\n",
    "    optimizer = tf.compat.v1.train.AdamOptimizer(learning_rate).minimize(cost)"
   ]
  },
  {
   "cell_type": "code",
   "execution_count": 17,
   "id": "5d0816f7-6362-4d2d-a2b2-07ef3109d67e",
   "metadata": {},
   "outputs": [],
   "source": [
    "# Summary operation to log progress of the network\n",
    "with tf.compat.v1.variable_scope('logging'):\n",
    "    tf.compat.v1.summary.scalar('current_cost', cost)\n",
    "    summary = tf.compat.v1.summary.merge_all()"
   ]
  },
  {
   "cell_type": "code",
   "execution_count": 18,
   "id": "8a14d58f-cf8a-4616-a4b8-c14f95938344",
   "metadata": {},
   "outputs": [],
   "source": [
    "saver = tf.compat.v1.train.Saver()"
   ]
  },
  {
   "cell_type": "markdown",
   "id": "8738cc89-d456-4e02-8f2e-684445908a3d",
   "metadata": {},
   "source": [
    "### Model Training Loop"
   ]
  },
  {
   "cell_type": "code",
   "execution_count": 35,
   "id": "1fcf030b-50ba-488e-bf9e-11b2f2fff3af",
   "metadata": {},
   "outputs": [
    {
     "name": "stdout",
     "output_type": "stream",
     "text": [
      "0 0.11288369 0.121972196\n",
      "5 0.048956838 0.050865814\n",
      "10 0.035772257 0.034390975\n",
      "15 0.012850004 0.01361542\n",
      "20 0.013623623 0.014966499\n",
      "25 0.007049699 0.0073604668\n",
      "30 0.006198388 0.0059101963\n",
      "35 0.003893946 0.0037954056\n",
      "40 0.0025634146 0.0024388412\n",
      "45 0.002047818 0.0018512983\n",
      "50 0.0016204517 0.0016477092\n",
      "55 0.0011652529 0.0010561275\n",
      "60 0.0008749021 0.0008701748\n",
      "65 0.00069783966 0.0007044998\n",
      "70 0.0005626246 0.00058712094\n",
      "75 0.0004600473 0.0004918317\n",
      "80 0.00038886498 0.00043496027\n",
      "85 0.00032771588 0.0003894613\n",
      "90 0.00027761646 0.0003518566\n",
      "95 0.00023792508 0.0003229706\n",
      "Training is complete!\n",
      "Final Training Cost: 0.0002107830805471167\n",
      "Final Testing Cost: 0.0002906522713601589\n",
      "The actual earnings of Game #1 were $247537.0\n",
      "Our neural network predicted earnings of $238626.328125\n",
      "Model saved: logs/trained_model.ckpt\n",
      "INFO:tensorflow:No assets to save.\n",
      "INFO:tensorflow:No assets to write.\n",
      "INFO:tensorflow:SavedModel written to: exported_model\\saved_model.pb\n"
     ]
    }
   ],
   "source": [
    "# Initialize a session so that we can run TensorFlow operations\n",
    "with tf.compat.v1.Session() as session:\n",
    "    # Run the global variable initializer to initialize all variables and layers of the neural network\n",
    "    session.run(tf.compat.v1.global_variables_initializer())\n",
    "    training_writer = tf.compat.v1.summary.FileWriter(\"./logs/training\", session.graph)\n",
    "    testing_writer  = tf.compat.v1.summary.FileWriter(\"./logs/testing\", session.graph)   # Run the optimizer over and over to train the network.\n",
    "   \n",
    "    # One epoch is one full run through the training data set.\n",
    "    for epoch in range(training_epochs):\n",
    "\n",
    "        # Feed in the training data and do one step of neural network training\n",
    "        session.run(optimizer, feed_dict={X: X_scaled_training, Y: Y_scaled_training})\n",
    "\n",
    "        # Print the current training status to the screen\n",
    "        #print(\"Training pass: {}\".format(epoch))\n",
    "        if epoch % 5 == 0:\n",
    "            training_cost, training_summary = session.run([cost, summary], feed_dict={X: X_scaled_training, Y: Y_scaled_training})\n",
    "            testing_cost,  testing_summary  = session.run([cost, summary], feed_dict={X: X_scaled_testing, Y: Y_scaled_testing})\n",
    "            print(epoch, training_cost, testing_cost)\n",
    "            \n",
    "            training_writer.add_summary(training_summary, epoch)\n",
    "            testing_writer.add_summary(testing_summary, epoch)\n",
    "            \n",
    "\n",
    "\n",
    "    # Training is now complete!\n",
    "    print(\"Training is complete!\")\n",
    "    \n",
    "    final_training_cost = session.run(cost, feed_dict={X: X_scaled_training, Y: Y_scaled_training})\n",
    "    final_testing_cost  = session.run(cost, feed_dict={X: X_scaled_testing, Y: Y_scaled_testing})\n",
    "    print(\"Final Training Cost: {}\".format(final_training_cost))\n",
    "    print(\"Final Testing Cost: {}\".format(final_testing_cost))\n",
    "    \n",
    "    # Now that the neural network is trained, let's use it to make predictions for our test data.\n",
    "    # Pass in the X testing data and run the \"prediciton\" operation\n",
    "    Y_predicted_scaled = session.run(prediction, feed_dict={X: X_scaled_testing})\n",
    "    \n",
    "    \n",
    "    # Unscale the data back to it's original units (dollars)\n",
    "    Y_predicted = Y_scaler.inverse_transform(Y_predicted_scaled)\n",
    "    \n",
    "    real_earnings = test_data_df['total_earnings'].values[0]\n",
    "    predicted_earnings = Y_predicted[0][0]\n",
    "    \n",
    "    \n",
    "    print(\"The actual earnings of Game #1 were ${}\".format(real_earnings))\n",
    "    print(\"Our neural network predicted earnings of ${}\".format(predicted_earnings))\n",
    "    \n",
    "    \n",
    "    save_path = saver.save(session, \"logs/trained_model.ckpt\")\n",
    "    print(\"Model saved: {}\".format(save_path))\n",
    "        \n",
    "    \n",
    "    ##### Model builder saver #######\n",
    "    model_builder = tf.compat.v1.saved_model.builder.SavedModelBuilder(\"exported_model\")\n",
    "    \n",
    "    inputs = {\n",
    "        'input': tf.compat.v1.saved_model.build_tensor_info(X)\n",
    "    }\n",
    "    outputs = {\n",
    "        'earnings': tf.compat.v1.saved_model.build_tensor_info(prediction)\n",
    "    }\n",
    "    signature_def = tf.compat.v1.saved_model.signature_def_utils.build_signature_def(\n",
    "        inputs=inputs,\n",
    "        outputs=outputs,\n",
    "        method_name=tf.compat.v1.saved_model.signature_constants.PREDICT_METHOD_NAME\n",
    "    )\n",
    "    \n",
    "    model_builder.add_meta_graph_and_variables(\n",
    "        session,\n",
    "        [tf.compat.v1.saved_model.tag_constants.SERVING],\n",
    "        signature_def_map={\n",
    "            tf.compat.v1.saved_model.signature_constants.DEFAULT_SERVING_SIGNATURE_DEF_KEY: signature_def\n",
    "        }\n",
    "    )\n",
    "    model_builder.save()\n",
    "    \n",
    "    "
   ]
  },
  {
   "cell_type": "markdown",
   "id": "a0d550d1-efde-4a03-a1ed-b5d310e9fd59",
   "metadata": {},
   "source": [
    "### Load Saved Model"
   ]
  },
  {
   "cell_type": "code",
   "execution_count": 46,
   "id": "60e24356-7772-475e-bbde-b0dbc58f8f21",
   "metadata": {},
   "outputs": [
    {
     "name": "stdout",
     "output_type": "stream",
     "text": [
      "INFO:tensorflow:Restoring parameters from logs/trained_model.ckpt\n",
      "Trained model loaded from disk!\n",
      "Final Training Cost: 0.0002759622875601053\n",
      "Final Testing Cost: 0.00042742499499581754\n",
      "The actual earnings of Game #1 were $247537.0\n",
      "Our neural network predicted earnings of $241256.609375\n",
      "Model saved: logs/trained_model.ckpt\n"
     ]
    }
   ],
   "source": [
    "with tf.compat.v1.Session() as session:\n",
    "    \n",
    "    \n",
    "    saver.restore(session, \"logs/trained_model.ckpt\")\n",
    "    \n",
    "    # Trained model loaded\n",
    "    print(\"Trained model loaded from disk!\")\n",
    "    \n",
    "    final_training_cost = session.run(cost, feed_dict={X: X_scaled_training, Y: Y_scaled_training})\n",
    "    final_testing_cost  = session.run(cost, feed_dict={X: X_scaled_testing, Y: Y_scaled_testing})\n",
    "    print(\"Final Training Cost: {}\".format(final_training_cost))\n",
    "    print(\"Final Testing Cost: {}\".format(final_testing_cost))\n",
    "    \n",
    "    # Now that the neural network is trained, let's use it to make predictions for our test data.\n",
    "    # Pass in the X testing data and run the \"prediciton\" operation\n",
    "    Y_predicted_scaled = session.run(prediction, feed_dict={X: X_scaled_testing})\n",
    "    \n",
    "    \n",
    "    # Unscale the data back to it's original units (dollars)\n",
    "    Y_predicted = Y_scaler.inverse_transform(Y_predicted_scaled)\n",
    "    \n",
    "    real_earnings = test_data_df['total_earnings'].values[0]\n",
    "    predicted_earnings = Y_predicted[0][0]\n",
    "    \n",
    "    \n",
    "    print(\"The actual earnings of Game #1 were ${}\".format(real_earnings))\n",
    "    print(\"Our neural network predicted earnings of ${}\".format(predicted_earnings))\n",
    "    \n",
    "    \n",
    "    save_path = saver.save(session, \"logs/trained_model.ckpt\")\n",
    "    print(\"Model saved: {}\".format(save_path))\n"
   ]
  }
 ],
 "metadata": {
  "kernelspec": {
   "display_name": "Python 3 (ipykernel)",
   "language": "python",
   "name": "python3"
  },
  "language_info": {
   "codemirror_mode": {
    "name": "ipython",
    "version": 3
   },
   "file_extension": ".py",
   "mimetype": "text/x-python",
   "name": "python",
   "nbconvert_exporter": "python",
   "pygments_lexer": "ipython3",
   "version": "3.8.0"
  }
 },
 "nbformat": 4,
 "nbformat_minor": 5
}
